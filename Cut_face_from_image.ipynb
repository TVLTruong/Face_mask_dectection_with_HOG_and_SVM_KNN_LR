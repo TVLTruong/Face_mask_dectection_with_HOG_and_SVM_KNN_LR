{
  "nbformat": 4,
  "nbformat_minor": 0,
  "metadata": {
    "colab": {
      "provenance": []
    },
    "kernelspec": {
      "name": "python3",
      "display_name": "Python 3"
    },
    "language_info": {
      "name": "python"
    }
  },
  "cells": [
    {
      "cell_type": "code",
      "execution_count": null,
      "metadata": {
        "colab": {
          "base_uri": "https://localhost:8080/"
        },
        "id": "EBCfqSnnzDzW",
        "outputId": "377abeac-d003-404e-c385-1af846b55616"
      },
      "outputs": [
        {
          "output_type": "stream",
          "name": "stdout",
          "text": [
            "Mounted at /content/drive\n"
          ]
        }
      ],
      "source": [
        "from google.colab import drive\n",
        "drive.mount('/content/drive')"
      ]
    },
    {
      "cell_type": "code",
      "source": [
        "import os\n",
        "import cv2\n",
        "import numpy as np\n",
        "import xml.etree.ElementTree as ET\n",
        "import matplotlib.pyplot as plt"
      ],
      "metadata": {
        "id": "1Q_v_Ibn8iQa"
      },
      "execution_count": null,
      "outputs": []
    },
    {
      "cell_type": "code",
      "source": [
        "# đường dẫn đến folder chứa dataset\n",
        "dataset_path = '/content/drive/MyDrive/Projects/Computer Vision/Face mask detection/Dataset/'\n",
        "xml_path = os.path.join(dataset_path, 'annotations')\n",
        "img_path = os.path.join(dataset_path, 'images')"
      ],
      "metadata": {
        "id": "93FfLzEI9fbr"
      },
      "execution_count": null,
      "outputs": []
    },
    {
      "cell_type": "code",
      "source": [
        "def display_image(image, cropped_image):\n",
        "\n",
        "  plt.figure(figsize=(10, 5))\n",
        "\n",
        "  plt.subplot(1, 2, 1)\n",
        "  plt.title('ảnh gốc')\n",
        "  plt.imshow(cv2.cvtColor(image, cv2.COLOR_BGR2RGB))\n",
        "  plt.axis('off')\n",
        "\n",
        "  plt.subplot(1, 2, 2)\n",
        "  plt.title('ảnh cắt')\n",
        "  plt.imshow(cv2.cvtColor(cropped_image, cv2.COLOR_BGR2RGB))\n",
        "  plt.axis('off')\n",
        "\n",
        "  plt.show()"
      ],
      "metadata": {
        "id": "tkNRp0ND9f7K"
      },
      "execution_count": null,
      "outputs": []
    },
    {
      "cell_type": "code",
      "source": [
        "def image_exists(img_path):\n",
        "  return os.path.isfile(img_path)"
      ],
      "metadata": {
        "id": "vZUpE48I9icB"
      },
      "execution_count": null,
      "outputs": []
    },
    {
      "cell_type": "code",
      "source": [
        "def process_xml(xml_file, save_dir, count, img_path):\n",
        "\n",
        "  # Đọc file XML\n",
        "  tree = ET.parse(xml_file)\n",
        "  root = tree.getroot()\n",
        "\n",
        "  # Lấy đường dẫn thư mục chứa file XML\n",
        "  xml_dir = os.path.dirname(xml_file)\n",
        "\n",
        "  # Lặp qua tất cả các đối tượng trong file XML\n",
        "  for obj in root.findall('object'):\n",
        "    # Lấy tên đối tượng từ mục name\n",
        "    name = obj.find('name').text\n",
        "\n",
        "    # Lấy thông tin bounding box từ mỗi đối tượng\n",
        "    xmin = int(obj.find('.//xmin').text)\n",
        "    ymin = int(obj.find('.//ymin').text)\n",
        "    xmax = int(obj.find('.//xmax').text)\n",
        "    ymax = int(obj.find('.//ymax').text)\n",
        "\n",
        "    # Đường dẫn ảnh từ XML\n",
        "    img_filename = root.find('filename').text\n",
        "    img_dir = os.path.join(img_path, img_filename)\n",
        "\n",
        "    # Kiểm tra xem file ảnh tồn tại không\n",
        "    if img_dir and image_exists(img_dir):\n",
        "      image = cv2.imread(img_dir)\n",
        "\n",
        "      # Kiểm tra xem ảnh đã đọc thành công hay không\n",
        "      if image is not None:\n",
        "        # Cắt ảnh\n",
        "        cropped_image = image[ymin:ymax, xmin:xmax]\n",
        "\n",
        "        # Tạo thư mục nếu chưa tồn tại\n",
        "        obj_dir = os.path.join(save_dir, name)\n",
        "        if not os.path.exists(obj_dir):\n",
        "          os.makedirs(obj_dir)\n",
        "\n",
        "        # Tạo tên cho file ảnh đã cắt\n",
        "        output_filename = f\"{str(count).zfill(4)}_{name}.jpg\"\n",
        "        output_path = os.path.join(obj_dir, output_filename)\n",
        "\n",
        "        count += 1\n",
        "\n",
        "        # Hiển thị ảnh gốc và ảnh cắt\n",
        "        display_image(image, cropped_image)\n",
        "\n",
        "        # Lưu ảnh đã cắt\n",
        "        cv2.imwrite(output_path, cropped_image)\n",
        "\n",
        "        print(f\"Đã lưu {output_filename} vào thư mục {obj_dir}\")\n",
        "      else:\n",
        "        print(f\"Không thể đọc ảnh {img_dir} - Bỏ qua...\")\n",
        "    else:\n",
        "      print(f\"Không tìm thấy file ảnh cho {img_filename} - Bỏ qua...\")\n",
        "\n",
        "  return count"
      ],
      "metadata": {
        "id": "uos9OUsd9p18"
      },
      "execution_count": null,
      "outputs": []
    },
    {
      "cell_type": "code",
      "source": [
        "# Thư mục chứa ảnh cắt của tập train và test\n",
        "train_save_dir = os.path.join(dataset_path, 'data_cut')\n",
        "\n",
        "count = 1\n",
        "\n",
        "# Xử lý tập train\n",
        "for xml_file in os.listdir(xml_path):\n",
        "    if xml_file.endswith(\".xml\"):\n",
        "        xml_dir = os.path.join(xml_path, xml_file)\n",
        "        count = process_xml(xml_dir, train_save_dir, count, img_path)\n",
        "        os.remove(xml_dir)\n"
      ],
      "metadata": {
        "id": "nMXFltfU9sVh"
      },
      "execution_count": null,
      "outputs": []
    }
  ]
}